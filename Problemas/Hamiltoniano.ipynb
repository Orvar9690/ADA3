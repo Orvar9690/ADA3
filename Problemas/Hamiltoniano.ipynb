{
 "cells": [
  {
   "metadata": {
    "ExecuteTime": {
     "end_time": "2024-12-06T19:16:55.822880Z",
     "start_time": "2024-12-06T19:16:55.816276Z"
    }
   },
   "cell_type": "code",
   "source": [
    "def hamiltonian_cycle(grafo, camino, n):\n",
    "    \"\"\"\n",
    "    Encuentra un Ciclo Hamiltoniano en un grafo dado.\n",
    "    Args:\n",
    "        grafo (list[list[int]]): Matriz de adyacencia del grafo.\n",
    "        camino (list[int]): Lista de vértices en el ciclo.\n",
    "        n (int): Número total de vértices.\n",
    "    Returns:\n",
    "        bool: True si se encuentra un Ciclo Hamiltoniano, False si no.\n",
    "    \"\"\"\n",
    "    # Caso base: Todos los vértices están en el ciclo\n",
    "    if len(camino) == n:\n",
    "        # Verificar si el último vértice conecta con el primero\n",
    "        return grafo[camino[-1]][camino[0]] == 1\n",
    "\n",
    "    # Explorar vértices no visitados\n",
    "    for v in range(n):\n",
    "        if grafo[camino[-1]][v] == 1 and v not in camino:\n",
    "            camino.append(v)\n",
    "            if hamiltonian_cycle(grafo, camino, n):\n",
    "                return True\n",
    "            camino.pop()\n",
    "\n",
    "    return False\n",
    "\n",
    "\n",
    "def resolver_ciclo_hamiltoniano(grafo):\n",
    "    \"\"\"\n",
    "    Resuelve el problema del Ciclo Hamiltoniano.\n",
    "    Args:\n",
    "        grafo (list[list[int]]): Matriz de adyacencia del grafo.\n",
    "    Returns:\n",
    "        list[int] or None: Camino del Ciclo Hamiltoniano o None si no existe.\n",
    "    \"\"\"\n",
    "    n = len(grafo)\n",
    "    for inicio in range(n):\n",
    "        camino = [inicio]\n",
    "        if hamiltonian_cycle(grafo, camino, n):\n",
    "            return camino + [inicio]  # Completar el ciclo al inicio\n",
    "    return None\n",
    "\n",
    "\n",
    "# Ejemplo de grafo como matriz de adyacencia\n",
    "grafo = [\n",
    "    [0, 1, 1, 1],  # A conecta con B, C, D\n",
    "    [1, 0, 1, 1],  # B conecta con A, C, D\n",
    "    [1, 1, 0, 1],  # C conecta con A, B, D\n",
    "    [1, 1, 1, 0],  # D conecta con A, B, C\n",
    "]\n",
    "\n",
    "ciclo = resolver_ciclo_hamiltoniano(grafo)\n",
    "if ciclo:\n",
    "    print(\"Ciclo Hamiltoniano encontrado:\", ciclo)\n",
    "else:\n",
    "    print(\"No existe un Ciclo Hamiltoniano.\")\n"
   ],
   "id": "767aa9e6c13b4529",
   "outputs": [
    {
     "name": "stdout",
     "output_type": "stream",
     "text": [
      "Ciclo Hamiltoniano encontrado: [0, 1, 2, 3, 0]\n"
     ]
    }
   ],
   "execution_count": 1
  }
 ],
 "metadata": {
  "kernelspec": {
   "display_name": "Python 3",
   "language": "python",
   "name": "python3"
  },
  "language_info": {
   "codemirror_mode": {
    "name": "ipython",
    "version": 2
   },
   "file_extension": ".py",
   "mimetype": "text/x-python",
   "name": "python",
   "nbconvert_exporter": "python",
   "pygments_lexer": "ipython2",
   "version": "2.7.6"
  }
 },
 "nbformat": 4,
 "nbformat_minor": 5
}
