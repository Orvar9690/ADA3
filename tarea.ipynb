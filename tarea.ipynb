{
 "cells": [
  {
   "metadata": {},
   "cell_type": "markdown",
   "source": [
    "# Paso 1: Configuración inicial\n",
    "### Objetivo:\n",
    "Crear un entorno base donde generemos matrices de costos y exploremos las soluciones para el problema de asignación."
   ],
   "id": "1dee5bb12ddecbad"
  },
  {
   "metadata": {
    "ExecuteTime": {
     "end_time": "2024-12-06T15:21:20.672876Z",
     "start_time": "2024-12-06T15:21:20.667818Z"
    }
   },
   "cell_type": "code",
   "source": [
    "import numpy as np\n",
    "import itertools\n",
    "import time\n",
    "\n",
    "# Función para generar una matriz de costos aleatoria\n",
    "def generar_matriz_costos(n, min_val=1, max_val=100):\n",
    "    return np.random.randint(min_val, max_val + 1, size=(n, n))\n",
    "\n",
    "# Ejemplo: generar y mostrar una matriz de costos para n=5\n",
    "n = 5\n",
    "matriz_costos = generar_matriz_costos(n)\n",
    "print(\"Matriz de costos:\")\n",
    "print(matriz_costos)\n"
   ],
   "id": "e6e98dc40e005b04",
   "outputs": [
    {
     "name": "stdout",
     "output_type": "stream",
     "text": [
      "Matriz de costos:\n",
      "[[77 45 93 68 36]\n",
      " [94 94  5 97 96]\n",
      " [14 33 19 62 24]\n",
      " [61 20 26 95 40]\n",
      " [58 58 52 40 25]]\n"
     ]
    }
   ],
   "execution_count": 6
  },
  {
   "metadata": {},
   "cell_type": "markdown",
   "source": [
    "### Resultado esperado:\n",
    "1. Una matriz n×n generada aleatoriamente con valores entre `min_val` y `max_val`.\n",
    "2. Esto nos da una base para usar en ambos algoritmos."
   ],
   "id": "590d53cf2e0587f"
  },
  {
   "metadata": {},
   "cell_type": "markdown",
   "source": [
    "# Algoritmo Ingenuo (AI)\n",
    "\n",
    "---\n",
    "\n",
    "### Objetivo:\n",
    "Explorar todas las permutaciones posibles de asignaciones y calcular el costo mínimo.\n",
    "\n",
    "### Explicación:\n",
    "1. Generamos todas las permutaciones posibles de asignaciones de tareas a agentes.\n",
    "2. Para cada permutación, calculamos el costo total.\n",
    "3. Guardamos la asignación con el costo más bajo."
   ],
   "id": "bb8f87a6bab6a22e"
  },
  {
   "metadata": {
    "ExecuteTime": {
     "end_time": "2024-12-06T15:34:49.648638Z",
     "start_time": "2024-12-06T15:34:49.644087Z"
    }
   },
   "cell_type": "code",
   "source": [
    "def algoritmo_ingenuo(matriz_costos):\n",
    "    n = len(matriz_costos)\n",
    "    permutaciones = itertools.permutations(range(n))  # Todas las asignaciones posibles\n",
    "    costo_minimo = float('inf')  # Inicializamos con un costo infinito\n",
    "    mejor_asignacion = None\n",
    "\n",
    "    # Evaluar cada permutación\n",
    "    for perm in permutaciones:\n",
    "        # Costo de la asignación actual\n",
    "        costo_actual = sum(matriz_costos[i][perm[i]] for i in range(n))\n",
    "        if costo_actual < costo_minimo:\n",
    "            costo_minimo = costo_actual\n",
    "            mejor_asignacion = perm\n",
    "\n",
    "    return costo_minimo, mejor_asignacion\n",
    "\n",
    "# Probar el AI con la matriz generada\n",
    "start_time = time.time()\n",
    "costo_ai, mejor_asignacion_ai = algoritmo_ingenuo(matriz_costos)\n",
    "end_time = time.time()\n",
    "\n",
    "print(\"\\n--- Resultados Algoritmo Ingenuo ---\")\n",
    "print(f\"Costo mínimo: {costo_ai}\")\n",
    "print(f\"Mejor asignación: {mejor_asignacion_ai}\")\n",
    "print(f\"Tiempo de ejecución: {end_time - start_time:.4f} segundos\")"
   ],
   "id": "ea5e9b43f03b6426",
   "outputs": [
    {
     "name": "stdout",
     "output_type": "stream",
     "text": [
      "\n",
      "--- Resultados Algoritmo Ingenuo ---\n",
      "Costo mínimo: 144\n",
      "Mejor asignación: (4, 3, 0, 2, 1)\n",
      "Tiempo de ejecución: 0.0003 segundos\n"
     ]
    }
   ],
   "execution_count": 10
  },
  {
   "metadata": {},
   "cell_type": "markdown",
   "source": "## Prueba Algoritmo Ingenuo",
   "id": "c1ad07635ee134f3"
  },
  {
   "metadata": {
    "ExecuteTime": {
     "end_time": "2024-12-06T15:34:54.418371Z",
     "start_time": "2024-12-06T15:34:54.414266Z"
    }
   },
   "cell_type": "code",
   "source": [
    "# Probar el AI con una matriz de ejemplo\n",
    "start_time = time.time()\n",
    "costo_minimo, mejor_asignacion = algoritmo_ingenuo(matriz_costos)\n",
    "end_time = time.time()\n",
    "\n",
    "print(\"\\n--- Resultados Algoritmo Ingenuo ---\")\n",
    "print(f\"Costo mínimo: {costo_minimo}\")\n",
    "print(f\"Mejor asignación: {mejor_asignacion}\")\n",
    "print(f\"Tiempo de ejecución: {end_time - start_time:.4f} segundos\")"
   ],
   "id": "ed0fd33cf0afeebd",
   "outputs": [
    {
     "name": "stdout",
     "output_type": "stream",
     "text": [
      "\n",
      "--- Resultados Algoritmo Ingenuo ---\n",
      "Costo mínimo: 144\n",
      "Mejor asignación: (4, 3, 0, 2, 1)\n",
      "Tiempo de ejecución: 0.0003 segundos\n"
     ]
    }
   ],
   "execution_count": 11
  },
  {
   "metadata": {},
   "cell_type": "markdown",
   "source": [
    "# Algoritmo de Ramificación y Poda (ARP)\n",
    "\n",
    "---\n",
    "\n",
    "### Objetivo:\n",
    "Explorar las asignaciones de forma más eficiente descartando aquellas que no podrían mejorar la solución óptima.\n",
    "\n",
    "### Explicación:\n",
    "- Implementamos un algoritmo recursivo.\n",
    "- Llevamos un seguimiento de las tareas asignadas y del costo parcial.\n",
    "- Utilizamos \"poda\" para evitar explorar ramas con costos superiores al mejor encontrado hasta ahora."
   ],
   "id": "aa6a7b8b400834b8"
  },
  {
   "metadata": {
    "ExecuteTime": {
     "end_time": "2024-12-06T15:34:56.825818Z",
     "start_time": "2024-12-06T15:34:56.819241Z"
    }
   },
   "cell_type": "code",
   "source": [
    "class AsignacionARP:\n",
    "    def __init__(self, matriz_costos):\n",
    "        self.matriz_costos = matriz_costos\n",
    "        self.n = len(matriz_costos)\n",
    "        self.tareas_asignadas = [False] * self.n\n",
    "        self.costo_minimo = float('inf')\n",
    "        self.mejor_asignacion = None\n",
    "\n",
    "    def resolver(self):\n",
    "        \"\"\"\n",
    "        Resuelve el problema usando ramificación y poda.\n",
    "        Returns:\n",
    "            tuple: (Costo mínimo, Mejor asignación)\n",
    "        \"\"\"\n",
    "        self._ramificacion_poda(0, 0, [])\n",
    "        return self.costo_minimo, self.mejor_asignacion\n",
    "\n",
    "    def _ramificacion_poda(self, agente, costo_actual, asignacion_actual):\n",
    "        # Caso base: asignamos todas las tareas\n",
    "        if agente == self.n:\n",
    "            if costo_actual < self.costo_minimo:\n",
    "                self.costo_minimo = costo_actual\n",
    "                self.mejor_asignacion = list(asignacion_actual)\n",
    "            return\n",
    "\n",
    "        # Explorar tareas disponibles\n",
    "        for tarea in range(self.n):\n",
    "            if not self.tareas_asignadas[tarea]:\n",
    "                # Marcar la tarea como asignada\n",
    "                self.tareas_asignadas[tarea] = True\n",
    "                asignacion_actual.append(tarea)\n",
    "\n",
    "                # Calcular nuevo costo y continuar si es prometedor\n",
    "                nuevo_costo = costo_actual + self.matriz_costos[agente][tarea]\n",
    "                if nuevo_costo < self.costo_minimo:\n",
    "                    self._ramificacion_poda(agente + 1, nuevo_costo, asignacion_actual)\n",
    "\n",
    "                # Retroceder\n",
    "                asignacion_actual.pop()\n",
    "                self.tareas_asignadas[tarea] = False\n",
    "\n",
    "# Probar el ARP con la misma matriz\n",
    "arp = AsignacionARP(matriz_costos)\n",
    "\n",
    "start_time = time.time()\n",
    "costo_arp, mejor_asignacion_arp = arp.resolver()\n",
    "end_time = time.time()\n",
    "\n",
    "print(\"\\n--- Resultados Algoritmo ARP ---\")\n",
    "print(f\"Costo mínimo: {costo_arp}\")\n",
    "print(f\"Mejor asignación: {mejor_asignacion_arp}\")\n",
    "print(f\"Tiempo de ejecución: {end_time - start_time:.4f} segundos\")\n"
   ],
   "id": "482a0748c6fa6440",
   "outputs": [
    {
     "name": "stdout",
     "output_type": "stream",
     "text": [
      "\n",
      "--- Resultados Algoritmo ARP ---\n",
      "Costo mínimo: 144\n",
      "Mejor asignación: [4, 3, 0, 2, 1]\n",
      "Tiempo de ejecución: 0.0002 segundos\n"
     ]
    }
   ],
   "execution_count": 12
  },
  {
   "metadata": {},
   "cell_type": "markdown",
   "source": "# Comparación de Algoritmos",
   "id": "bdd272827e7d6666"
  },
  {
   "metadata": {
    "ExecuteTime": {
     "end_time": "2024-12-06T20:08:58.110628Z",
     "start_time": "2024-12-06T20:06:52.261118Z"
    }
   },
   "cell_type": "code",
   "source": [
    "# Valores de n para la prueba\n",
    "tamanios = [5, 6, 7, 8, 9, 10, 11]\n",
    "resultados = []  # Lista para almacenar resultados\n",
    "\n",
    "for n in tamanios:\n",
    "    print(f\"\\n=== Resolviendo para n = {n} ===\")\n",
    "    \n",
    "    # Generar matriz de costos\n",
    "    matriz_costos = generar_matriz_costos(n)\n",
    "    print(f\"Matriz de costos generada para n = {n}:\")\n",
    "    print(matriz_costos)\n",
    "\n",
    "    # Algoritmo Ingenuo (AI)\n",
    "    start_time = time.time()\n",
    "    costo_ai, mejor_asignacion_ai = algoritmo_ingenuo(matriz_costos)\n",
    "    tiempo_ai = time.time() - start_time\n",
    "    \n",
    "    # Algoritmo ARP\n",
    "    arp = AsignacionARP(matriz_costos)\n",
    "    start_time = time.time()\n",
    "    costo_arp, mejor_asignacion_arp = arp.resolver()\n",
    "    tiempo_arp = time.time() - start_time\n",
    "\n",
    "    # Guardar resultados\n",
    "    resultados.append({\n",
    "        \"n\": n,\n",
    "        \"costo_ai\": costo_ai,\n",
    "        \"tiempo_ai\": tiempo_ai,\n",
    "        \"costo_arp\": costo_arp,\n",
    "        \"tiempo_arp\": tiempo_arp,\n",
    "        \"igual_costo\": costo_ai == costo_arp  # Verifica si ambos encontraron el mismo costo mínimo\n",
    "    })\n",
    "    \n",
    "    # Mostrar resultados parciales\n",
    "    print(\"\\n--- Resultados para n =\", n, \"---\")\n",
    "    print(f\"AI: Costo mínimo: {costo_ai}, Tiempo: {tiempo_ai:.4f} segundos\")\n",
    "    print(f\"ARP: Costo mínimo: {costo_arp}, Tiempo: {tiempo_arp:.4f} segundos\")\n",
    "    print(f\"¿Ambos algoritmos encontraron el mismo costo mínimo?: {costo_ai == costo_arp}\")\n",
    "\n",
    "# Mostrar todos los resultados al final\n",
    "import pandas as pd\n",
    "df_resultados = pd.DataFrame(resultados)\n",
    "print(\"\\n--- Resumen Comparativo de Resultados ---\")\n",
    "print(df_resultados)\n"
   ],
   "id": "16c1af0b60f74939",
   "outputs": [
    {
     "name": "stdout",
     "output_type": "stream",
     "text": [
      "\n",
      "=== Resolviendo para n = 5 ===\n",
      "Matriz de costos generada para n = 5:\n",
      "[[77 30 32 11  8]\n",
      " [25 91  6 77 68]\n",
      " [34 12 95 93 93]\n",
      " [33 60 97 43  2]\n",
      " [24 37  5 76 47]]\n",
      "\n",
      "--- Resultados para n = 5 ---\n",
      "AI: Costo mínimo: 55, Tiempo: 0.0002 segundos\n",
      "ARP: Costo mínimo: 55, Tiempo: 0.0001 segundos\n",
      "¿Ambos algoritmos encontraron el mismo costo mínimo?: True\n",
      "\n",
      "=== Resolviendo para n = 6 ===\n",
      "Matriz de costos generada para n = 6:\n",
      "[[30 26 59 14 39 10]\n",
      " [51 58 82 97 29 42]\n",
      " [51 73 16 90 11 36]\n",
      " [ 1 81 10 17 71 27]\n",
      " [57 68 11  2  1 91]\n",
      " [11  8 60 51 87 53]]\n",
      "\n",
      "--- Resultados para n = 6 ---\n",
      "AI: Costo mínimo: 66, Tiempo: 0.0015 segundos\n",
      "ARP: Costo mínimo: 66, Tiempo: 0.0002 segundos\n",
      "¿Ambos algoritmos encontraron el mismo costo mínimo?: True\n",
      "\n",
      "=== Resolviendo para n = 7 ===\n",
      "Matriz de costos generada para n = 7:\n",
      "[[62 34 69 83 93  5 29]\n",
      " [58 79 55 43  7 60 28]\n",
      " [62  2 51 39 88 68 62]\n",
      " [58 31 57 82 50 42  6]\n",
      " [80 58 30  6 88 93 14]\n",
      " [91 27 76 66 31 21  1]\n",
      " [ 6 89 57 10 32 48 93]]\n",
      "\n",
      "--- Resultados para n = 7 ---\n",
      "AI: Costo mínimo: 84, Tiempo: 0.0111 segundos\n",
      "ARP: Costo mínimo: 84, Tiempo: 0.0003 segundos\n",
      "¿Ambos algoritmos encontraron el mismo costo mínimo?: True\n",
      "\n",
      "=== Resolviendo para n = 8 ===\n",
      "Matriz de costos generada para n = 8:\n",
      "[[ 51  91  54  41  80  15  74  87]\n",
      " [ 40  57  44   3  93  51  14  96]\n",
      " [ 68  49  76 100  19   1  70  31]\n",
      " [ 28  80  39  51  64  87   9  67]\n",
      " [ 38  15  27  34  81  65  86  24]\n",
      " [ 45  26  16  69  90  95  57  15]\n",
      " [ 52  94  26  29  30  32  61  24]\n",
      " [  7  84  53   3  67  62  83  44]]\n",
      "\n",
      "--- Resultados para n = 8 ---\n",
      "AI: Costo mínimo: 108, Tiempo: 0.0919 segundos\n",
      "ARP: Costo mínimo: 108, Tiempo: 0.0013 segundos\n",
      "¿Ambos algoritmos encontraron el mismo costo mínimo?: True\n",
      "\n",
      "=== Resolviendo para n = 9 ===\n",
      "Matriz de costos generada para n = 9:\n",
      "[[ 29  82  75 100  75 100  50   2  41]\n",
      " [  1  69  84  86  81  81  61  86  85]\n",
      " [ 67  50  50  39  34  22  39  79  66]\n",
      " [ 47  26  67  78   8  90  43  64  32]\n",
      " [ 25  29  21  30   1   4  90  17  29]\n",
      " [ 64  50  23  16   9   4  97   6  72]\n",
      " [  4  36  61  65  60  63  26  25  30]\n",
      " [ 20  96  36  54  54  55  62  95  69]\n",
      " [ 21  24  66  36  68  42  96  28  64]]\n",
      "\n",
      "--- Resultados para n = 9 ---\n",
      "AI: Costo mínimo: 160, Tiempo: 0.9265 segundos\n",
      "ARP: Costo mínimo: 160, Tiempo: 0.0211 segundos\n",
      "¿Ambos algoritmos encontraron el mismo costo mínimo?: True\n",
      "\n",
      "=== Resolviendo para n = 10 ===\n",
      "Matriz de costos generada para n = 10:\n",
      "[[31 30 86  7 13 57 62 29 82 35]\n",
      " [ 3 11 53 19 26 96 56 87 16 45]\n",
      " [34 62 67 82 49 18 83 71  3 48]\n",
      " [12 23 96  1 91 33  3 35 78 52]\n",
      " [22 68  7 92 22 28 13 38 23 57]\n",
      " [ 8 61  2 52 22 40 95  9 97 71]\n",
      " [74  3 13 95 49 49 12 60 69 37]\n",
      " [17  4 89 84 89 89 37 12 10 76]\n",
      " [15 23 92 37 30 38 42 40 35 37]\n",
      " [57 63 54 88 85 40 14 35 18 81]]\n",
      "\n",
      "--- Resultados para n = 10 ---\n",
      "AI: Costo mínimo: 115, Tiempo: 9.7788 segundos\n",
      "ARP: Costo mínimo: 115, Tiempo: 0.0275 segundos\n",
      "¿Ambos algoritmos encontraron el mismo costo mínimo?: True\n",
      "\n",
      "=== Resolviendo para n = 11 ===\n",
      "Matriz de costos generada para n = 11:\n",
      "[[ 40   1  66  72  43  85  19  13  21  95  69]\n",
      " [ 80  31   3  31 100  72  35  44  76  60  30]\n",
      " [ 70  45  56  15  83  76  68   9  86   3   9]\n",
      " [ 78  94  81  92  48  18  40  16  61  14  95]\n",
      " [ 12  26  74  48  63  82  14   6  55  69  91]\n",
      " [ 79  34  98  22  31  51  89  44  85  56  73]\n",
      " [ 90  74  28  26  73  24  70  18  26  19  45]\n",
      " [  3  13  88  71  37  63  41  32  71  45  64]\n",
      " [ 97  71  21   8   2  18  80  70  47   3  43]\n",
      " [ 86  47  29  11  73  90  30  54  59   8 100]\n",
      " [ 91  32  24  56  22  85  33  62  98  54  31]]\n",
      "\n",
      "--- Resultados para n = 11 ---\n",
      "AI: Costo mínimo: 131, Tiempo: 114.9433 segundos\n",
      "ARP: Costo mínimo: 131, Tiempo: 0.0336 segundos\n",
      "¿Ambos algoritmos encontraron el mismo costo mínimo?: True\n",
      "\n",
      "--- Resumen Comparativo de Resultados ---\n",
      "    n  costo_ai   tiempo_ai  costo_arp  tiempo_arp  igual_costo\n",
      "0   5        55    0.000242         55    0.000093         True\n",
      "1   6        66    0.001468         66    0.000171         True\n",
      "2   7        84    0.011082         84    0.000333         True\n",
      "3   8       108    0.091924        108    0.001250         True\n",
      "4   9       160    0.926535        160    0.021108         True\n",
      "5  10       115    9.778801        115    0.027498         True\n",
      "6  11       131  114.943299        131    0.033557         True\n"
     ]
    }
   ],
   "execution_count": 17
  },
  {
   "metadata": {},
   "cell_type": "markdown",
   "source": [
    "## Visualización de Resultados\n",
    "Para analizar mejor el rendimiento de ambos algoritmos, graficaremos los tiempos de ejecución usando `matplotlib`."
   ],
   "id": "50f5742ee52806f3"
  },
  {
   "metadata": {
    "ExecuteTime": {
     "end_time": "2024-12-06T20:13:48.533368Z",
     "start_time": "2024-12-06T20:13:48.411974Z"
    }
   },
   "cell_type": "code",
   "source": [
    "import matplotlib.pyplot as plt\n",
    "\n",
    "# Graficar tiempos de ejecución\n",
    "plt.figure(figsize=(10, 6))\n",
    "plt.plot(df_resultados[\"n\"], df_resultados[\"tiempo_ai\"], label=\"AI (Ingenuo)\", marker=\"o\")\n",
    "plt.plot(df_resultados[\"n\"], df_resultados[\"tiempo_arp\"], label=\"ARP (Ramificación y Poda)\", marker=\"o\")\n",
    "\n",
    "# Configurar gráfico\n",
    "plt.title(\"Comparación de Tiempos de Ejecución\")\n",
    "plt.xlabel(\"Tamaño de la Matriz (n)\")\n",
    "plt.ylabel(\"Tiempo de Ejecución (segundos)\")\n",
    "plt.legend()\n",
    "plt.grid()\n",
    "plt.show()"
   ],
   "id": "29bafe75539f338f",
   "outputs": [
    {
     "data": {
      "text/plain": [
       "<Figure size 1000x600 with 1 Axes>"
      ],
      "image/png": "[encoded data removed]"
     },
     "metadata": {},
     "output_type": "display_data"
    }
   ],
   "execution_count": 18
  },
  {
   "metadata": {},
   "cell_type": "code",
   "outputs": [],
   "execution_count": null,
   "source": "",
   "id": "940826edf7ca9f42"
  }
 ],
 "metadata": {
  "kernelspec": {
   "display_name": "Python 3",
   "language": "python",
   "name": "python3"
  },
  "language_info": {
   "codemirror_mode": {
    "name": "ipython",
    "version": 2
   },
   "file_extension": ".py",
   "mimetype": "text/x-python",
   "name": "python",
   "nbconvert_exporter": "python",
   "pygments_lexer": "ipython2",
   "version": "2.7.6"
  }
 },
 "nbformat": 4,
 "nbformat_minor": 5
}
